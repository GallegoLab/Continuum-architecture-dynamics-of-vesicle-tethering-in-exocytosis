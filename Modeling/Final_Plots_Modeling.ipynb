{
 "cells": [
  {
   "cell_type": "code",
   "execution_count": 5,
   "id": "35a74849",
   "metadata": {},
   "outputs": [],
   "source": [
    "import numpy as np\n",
    "import pandas as pd\n",
    "import matplotlib.pyplot as plt\n",
    "from scipy.interpolate import CubicSpline\n",
    "from scipy import interpolate\n",
    "from sklearn.decomposition import PCA\n",
    "from scipy.interpolate import UnivariateSpline,interp1d,splprep,splev\n",
    "from scipy.signal import medfilt\n",
    "from os import listdir,path,walk\n",
    "import matplotlib as mpl\n",
    "from scipy.signal import savgol_filter\n",
    "import lmfit as lm\n",
    "import scipy.stats as stats\n",
    "import os\n",
    "from scipy import interpolate\n",
    "import subprocess\n",
    "import seaborn as sns\n",
    "from matplotlib.colors import ListedColormap, LinearSegmentedColormap\n",
    "from scipy.optimize import fsolve\n",
    "\n",
    "colors = mpl.cm.get_cmap('coolwarm', 10)\n",
    "mpl.rcParams.update({'font.size': 18})\n",
    "mpl.rcParams['axes.linewidth'] = 1.5\n",
    "pd.options.display.float_format = '{:,.4f}'.format\n",
    "\n",
    "mpl.rcParams['font.size']  = 40\n",
    "mpl.rcParams['axes.labelsize'] = 18\n",
    "mpl.rcParams['xtick.labelsize']= 16\n",
    "mpl.rcParams['ytick.labelsize']= 16\n",
    "mpl.rcParams['legend.fontsize']= 14\n",
    "mpl.rcParams['legend.title_fontsize']= 14"
   ]
  },
  {
   "cell_type": "markdown",
   "id": "a5f2823d",
   "metadata": {
    "heading_collapsed": true
   },
   "source": [
    "# Modeling: ExHOS kinetics"
   ]
  },
  {
   "cell_type": "markdown",
   "id": "d42a5b1b",
   "metadata": {
    "heading_collapsed": true,
    "hidden": true
   },
   "source": [
    "## Functions"
   ]
  },
  {
   "cell_type": "code",
   "execution_count": 9,
   "id": "0bc2f7ca",
   "metadata": {
    "hidden": true
   },
   "outputs": [],
   "source": [
    "#---------------------------------------------------------------------------------#\n",
    "def p_c(t,k,f):\n",
    "    if f == \"Expon\":\n",
    "        return np.exp(-k*t)\n",
    "    elif f == \"Beta\":\n",
    "        return (1-t)**(k-1)\n",
    "    if f == \"Two_Expon\":\n",
    "        return ((np.exp(-k1*t) - np.exp(-k*t))*k1)/(k- k1) \n",
    "    else:\n",
    "        print(\"Beta or Expon\")\n",
    "        return np.nan\n",
    "\n",
    "def p_c_int(k,to,tf,f,shift=0):\n",
    "    if f == \"Expon\":\n",
    "        integral = 1/k*(np.exp(-to*k)-np.exp(-tf*k))\n",
    "    elif f == \"Two_Expon\":\n",
    "        integral = (-np.exp(-k1*tf)/k1 + np.exp(-k*tf)/k)*k1/(k - k1) -\\\n",
    "              (-np.exp(-k1*to)/k1 + np.exp(-k*to)/k)*k1/(k - k1)   \n",
    "        #return ((np.exp(-k*tf) - np.exp(-k*to))*k1/k +\\\n",
    "        #        (-np.exp(-k1*tf) + np.exp(-k1*to))*k/k1 +\\\n",
    "        #        k1*tf - k*tf - k1*to + k*to)/(k1 - k)- shift\n",
    "    elif f == \"Beta\":\n",
    "        integral = 1/k*((1-to)**k-(1-tf)**k)  \n",
    "    else:\n",
    "        print(\"Beta or Expon\")\n",
    "        return np.nan    \n",
    "    return integral - shift\n",
    "\n",
    "def derivates_pc_t(var,tf,to,k,pc):\n",
    "    if var == \"k\":\n",
    "        return 1/(tf-to)*1/k * (tf*np.exp(-k*tf)-to*np.exp(-k*to)) - 1/k*pc\n",
    "    elif var == \"to\":\n",
    "        return -1/(tf-to)*pc + 1/(tf-to)*np.exp(-k*to)\n",
    "    elif var == \"tf\":\n",
    "        return 1/(tf-to)*pc - 1/(tf-to)*np.exp(-k*tf)\n",
    "    else:\n",
    "        print(\"var is 'k', 'tf' or 'to'\")\n",
    "        return np.nan"
   ]
  },
  {
   "cell_type": "markdown",
   "id": "e2d52b5a",
   "metadata": {
    "hidden": true
   },
   "source": [
    "## Run"
   ]
  },
  {
   "cell_type": "code",
   "execution_count": 52,
   "id": "9b11109b",
   "metadata": {
    "hidden": true
   },
   "outputs": [
    {
     "data": {
      "text/html": [
       "<div>\n",
       "<style scoped>\n",
       "    .dataframe tbody tr th:only-of-type {\n",
       "        vertical-align: middle;\n",
       "    }\n",
       "\n",
       "    .dataframe tbody tr th {\n",
       "        vertical-align: top;\n",
       "    }\n",
       "\n",
       "    .dataframe thead th {\n",
       "        text-align: right;\n",
       "    }\n",
       "</style>\n",
       "<table border=\"1\" class=\"dataframe\">\n",
       "  <thead>\n",
       "    <tr style=\"text-align: right;\">\n",
       "      <th></th>\n",
       "      <th>Set</th>\n",
       "      <th>Compact</th>\n",
       "      <th>Expanded</th>\n",
       "      <th>STD</th>\n",
       "      <th>SEM</th>\n",
       "      <th>Count</th>\n",
       "      <th>N_replicates</th>\n",
       "    </tr>\n",
       "  </thead>\n",
       "  <tbody>\n",
       "    <tr>\n",
       "      <th>Sec2</th>\n",
       "      <td>Sec2_GFP</td>\n",
       "      <td>0.2654</td>\n",
       "      <td>0.7346</td>\n",
       "      <td>0.0313</td>\n",
       "      <td>0.0601</td>\n",
       "      <td>173</td>\n",
       "      <td>3</td>\n",
       "    </tr>\n",
       "    <tr>\n",
       "      <th>WT</th>\n",
       "      <td>WT</td>\n",
       "      <td>0.3243</td>\n",
       "      <td>0.6757</td>\n",
       "      <td>0.0348</td>\n",
       "      <td>0.0767</td>\n",
       "      <td>136</td>\n",
       "      <td>3</td>\n",
       "    </tr>\n",
       "    <tr>\n",
       "      <th>Sec9</th>\n",
       "      <td>Sec9_GFP</td>\n",
       "      <td>0.0898</td>\n",
       "      <td>0.9102</td>\n",
       "      <td>0.0187</td>\n",
       "      <td>0.0355</td>\n",
       "      <td>202</td>\n",
       "      <td>3</td>\n",
       "    </tr>\n",
       "    <tr>\n",
       "      <th>Sec18</th>\n",
       "      <td>Sec18_AA</td>\n",
       "      <td>0.0573</td>\n",
       "      <td>0.9427</td>\n",
       "      <td>0.0128</td>\n",
       "      <td>0.0348</td>\n",
       "      <td>220</td>\n",
       "      <td>3</td>\n",
       "    </tr>\n",
       "  </tbody>\n",
       "</table>\n",
       "</div>"
      ],
      "text/plain": [
       "            Set  Compact  Expanded    STD    SEM  Count  N_replicates\n",
       "Sec2   Sec2_GFP   0.2654    0.7346 0.0313 0.0601    173             3\n",
       "WT           WT   0.3243    0.6757 0.0348 0.0767    136             3\n",
       "Sec9   Sec9_GFP   0.0898    0.9102 0.0187 0.0355    202             3\n",
       "Sec18  Sec18_AA   0.0573    0.9427 0.0128 0.0348    220             3"
      ]
     },
     "execution_count": 52,
     "metadata": {},
     "output_type": "execute_result"
    }
   ],
   "source": [
    "## Populations from  SMLM ###\n",
    "pop_SMLM = pd.read_csv(\"SMLM/Results_over_replicates_using_fixed_Class_Oct11_GitHub.csv\")\n",
    "pop_SMLM.index = [\"Sec2\",\"WT\",\"Sec9\",\"Sec18\"]\n",
    "pop_SMLM"
   ]
  },
  {
   "cell_type": "code",
   "execution_count": 53,
   "id": "aa5c1e6d",
   "metadata": {
    "hidden": true
   },
   "outputs": [
    {
     "data": {
      "text/html": [
       "<div>\n",
       "<style scoped>\n",
       "    .dataframe tbody tr th:only-of-type {\n",
       "        vertical-align: middle;\n",
       "    }\n",
       "\n",
       "    .dataframe tbody tr th {\n",
       "        vertical-align: top;\n",
       "    }\n",
       "\n",
       "    .dataframe thead th {\n",
       "        text-align: right;\n",
       "    }\n",
       "</style>\n",
       "<table border=\"1\" class=\"dataframe\">\n",
       "  <thead>\n",
       "    <tr style=\"text-align: right;\">\n",
       "      <th></th>\n",
       "      <th>Protein</th>\n",
       "      <th>Count</th>\n",
       "      <th>T_arrival</th>\n",
       "      <th>SD_arrival</th>\n",
       "      <th>T_departure</th>\n",
       "      <th>SD_departure</th>\n",
       "      <th>Dur_C2</th>\n",
       "      <th>SD_Dur_C2</th>\n",
       "      <th>Dur_C1</th>\n",
       "    </tr>\n",
       "    <tr>\n",
       "      <th>Protein</th>\n",
       "      <th></th>\n",
       "      <th></th>\n",
       "      <th></th>\n",
       "      <th></th>\n",
       "      <th></th>\n",
       "      <th></th>\n",
       "      <th></th>\n",
       "      <th></th>\n",
       "      <th></th>\n",
       "    </tr>\n",
       "  </thead>\n",
       "  <tbody>\n",
       "    <tr>\n",
       "      <th>Sec2</th>\n",
       "      <td>Sec2</td>\n",
       "      <td>34</td>\n",
       "      <td>-0.0797</td>\n",
       "      <td>2.7249</td>\n",
       "      <td>8.6050</td>\n",
       "      <td>2.7763</td>\n",
       "      <td>8.6847</td>\n",
       "      <td>3.6154</td>\n",
       "      <td>9.4000</td>\n",
       "    </tr>\n",
       "    <tr>\n",
       "      <th>Sec9</th>\n",
       "      <td>Sec9</td>\n",
       "      <td>42</td>\n",
       "      <td>3.0949</td>\n",
       "      <td>2.6339</td>\n",
       "      <td>11.9006</td>\n",
       "      <td>1.2393</td>\n",
       "      <td>8.8057</td>\n",
       "      <td>3.1991</td>\n",
       "      <td>9.4000</td>\n",
       "    </tr>\n",
       "    <tr>\n",
       "      <th>Sec17</th>\n",
       "      <td>Sec17</td>\n",
       "      <td>21</td>\n",
       "      <td>8.8467</td>\n",
       "      <td>2.7125</td>\n",
       "      <td>14.4871</td>\n",
       "      <td>2.3719</td>\n",
       "      <td>5.6405</td>\n",
       "      <td>2.0829</td>\n",
       "      <td>9.4000</td>\n",
       "    </tr>\n",
       "    <tr>\n",
       "      <th>Sec18</th>\n",
       "      <td>Sec18</td>\n",
       "      <td>14</td>\n",
       "      <td>9.0986</td>\n",
       "      <td>1.6599</td>\n",
       "      <td>13.7271</td>\n",
       "      <td>1.1097</td>\n",
       "      <td>4.6286</td>\n",
       "      <td>2.0521</td>\n",
       "      <td>9.4000</td>\n",
       "    </tr>\n",
       "    <tr>\n",
       "      <th>WT</th>\n",
       "      <td>WT</td>\n",
       "      <td>90</td>\n",
       "      <td>0.0000</td>\n",
       "      <td>0.0000</td>\n",
       "      <td>9.4000</td>\n",
       "      <td>2.7000</td>\n",
       "      <td>0.0000</td>\n",
       "      <td>0.0000</td>\n",
       "      <td>9.4000</td>\n",
       "    </tr>\n",
       "  </tbody>\n",
       "</table>\n",
       "</div>"
      ],
      "text/plain": [
       "        Protein  Count  T_arrival  SD_arrival  T_departure  SD_departure  \\\n",
       "Protein                                                                    \n",
       "Sec2       Sec2     34    -0.0797      2.7249       8.6050        2.7763   \n",
       "Sec9       Sec9     42     3.0949      2.6339      11.9006        1.2393   \n",
       "Sec17     Sec17     21     8.8467      2.7125      14.4871        2.3719   \n",
       "Sec18     Sec18     14     9.0986      1.6599      13.7271        1.1097   \n",
       "WT           WT     90     0.0000      0.0000       9.4000        2.7000   \n",
       "\n",
       "         Dur_C2  SD_Dur_C2  Dur_C1  \n",
       "Protein                             \n",
       "Sec2     8.6847     3.6154  9.4000  \n",
       "Sec9     8.8057     3.1991  9.4000  \n",
       "Sec17    5.6405     2.0829  9.4000  \n",
       "Sec18    4.6286     2.0521  9.4000  \n",
       "WT       0.0000     0.0000  9.4000  "
      ]
     },
     "execution_count": 53,
     "metadata": {},
     "output_type": "execute_result"
    }
   ],
   "source": [
    "timeline = pd.read_csv(\"tracking/Times.csv\")\n",
    "exodur   = 9.4\n",
    "timeline[\"Dur_C1\"]      = [exodur,9.4,exodur,exodur]\n",
    "timeline[\"T_arrival\"]  += timeline[\"Dur_C1\"]\n",
    "timeline[\"T_departure\"]+= timeline[\"Dur_C1\"]\n",
    "timeline.index          = timeline[\"Protein\"]\n",
    "timeline.loc[\"WT\"]      = [\"WT\",90,0,0,exodur,2.7,0,0,exodur]\n",
    "timeline"
   ]
  },
  {
   "cell_type": "markdown",
   "id": "e6e65495",
   "metadata": {
    "heading_collapsed": true,
    "hidden": true
   },
   "source": [
    "### Fig 4B: First-order reaction-like model [Compact] -> [Expanded]"
   ]
  },
  {
   "cell_type": "code",
   "execution_count": 58,
   "id": "2d1a0b46",
   "metadata": {
    "hidden": true
   },
   "outputs": [
    {
     "name": "stderr",
     "output_type": "stream",
     "text": [
      "/home/jsortiz/anaconda3/lib/python3.8/site-packages/scipy/optimize/_minpack_py.py:175: RuntimeWarning: The iteration is not making good progress, as measured by the \n",
      "  improvement from the last ten iterations.\n",
      "  warnings.warn(msg, RuntimeWarning)\n"
     ]
    },
    {
     "data": {
      "text/html": [
       "<div>\n",
       "<style scoped>\n",
       "    .dataframe tbody tr th:only-of-type {\n",
       "        vertical-align: middle;\n",
       "    }\n",
       "\n",
       "    .dataframe tbody tr th {\n",
       "        vertical-align: top;\n",
       "    }\n",
       "\n",
       "    .dataframe thead th {\n",
       "        text-align: right;\n",
       "    }\n",
       "</style>\n",
       "<table border=\"1\" class=\"dataframe\">\n",
       "  <thead>\n",
       "    <tr style=\"text-align: right;\">\n",
       "      <th></th>\n",
       "      <th>Raw</th>\n",
       "      <th>Raw_Err</th>\n",
       "      <th>K_Rate_Adim</th>\n",
       "      <th>K_Rate</th>\n",
       "      <th>Tau</th>\n",
       "      <th>Prob_Estimated</th>\n",
       "      <th>Prob_Estimated_Using_Sec2</th>\n",
       "    </tr>\n",
       "  </thead>\n",
       "  <tbody>\n",
       "    <tr>\n",
       "      <th>Sec2</th>\n",
       "      <td>0.2654</td>\n",
       "      <td>0.0367</td>\n",
       "      <td>3.6331</td>\n",
       "      <td>0.3865</td>\n",
       "      <td>2.5873</td>\n",
       "      <td>0.3022</td>\n",
       "      <td>0.2654</td>\n",
       "    </tr>\n",
       "    <tr>\n",
       "      <th>WT</th>\n",
       "      <td>0.3243</td>\n",
       "      <td>0.0367</td>\n",
       "      <td>2.9163</td>\n",
       "      <td>0.3102</td>\n",
       "      <td>3.2232</td>\n",
       "      <td>0.3065</td>\n",
       "      <td>0.2680</td>\n",
       "    </tr>\n",
       "    <tr>\n",
       "      <th>Sec9</th>\n",
       "      <td>0.0898</td>\n",
       "      <td>0.0367</td>\n",
       "      <td>3.3254</td>\n",
       "      <td>0.3538</td>\n",
       "      <td>2.8267</td>\n",
       "      <td>0.1007</td>\n",
       "      <td>0.0759</td>\n",
       "    </tr>\n",
       "    <tr>\n",
       "      <th>Sec18</th>\n",
       "      <td>0.0573</td>\n",
       "      <td>0.0367</td>\n",
       "      <td>2.6000</td>\n",
       "      <td>0.2766</td>\n",
       "      <td>3.6154</td>\n",
       "      <td>0.0015</td>\n",
       "      <td>0.0009</td>\n",
       "    </tr>\n",
       "  </tbody>\n",
       "</table>\n",
       "</div>"
      ],
      "text/plain": [
       "         Raw  Raw_Err  K_Rate_Adim  K_Rate    Tau  Prob_Estimated  \\\n",
       "Sec2  0.2654   0.0367       3.6331  0.3865 2.5873          0.3022   \n",
       "WT    0.3243   0.0367       2.9163  0.3102 3.2232          0.3065   \n",
       "Sec9  0.0898   0.0367       3.3254  0.3538 2.8267          0.1007   \n",
       "Sec18 0.0573   0.0367       2.6000  0.2766 3.6154          0.0015   \n",
       "\n",
       "       Prob_Estimated_Using_Sec2  \n",
       "Sec2                      0.2654  \n",
       "WT                        0.2680  \n",
       "Sec9                      0.0759  \n",
       "Sec18                     0.0009  "
      ]
     },
     "execution_count": 58,
     "metadata": {},
     "output_type": "execute_result"
    }
   ],
   "source": [
    "#++++++++++++++Exponential model: Pc = exp(-k*t)++++++++++++++\n",
    "#++++++++++++++ Pc(t) + Pe(t) = 1++++++++++++++\n",
    "# The average Compact population oberserved in the time-window [to,tf] is given by\n",
    "# Pc_avg(to,tf) = 1/(tf-to) * 1/k *[exp(-k*to)-exp(-k*tf)]\n",
    "model   = pop_SMLM[[\"Compact\"]].copy() ## Results from SMLM \n",
    "model.rename(columns={\"Compact\":\"Raw\"},inplace=True)\n",
    "\n",
    "## Results from SMLM, corrected by acc and taking into account the non-classified data population \n",
    "acc = 0.9\n",
    "model[\"Raw_Err\"] = np.sqrt(0.03**2+acc*(1-acc)/200) ## 0.03 is the average STD Distal/Proximal population in experimental data\n",
    "\n",
    "f = \"Expon\"\n",
    "\n",
    "for ids in pop_SMLM.index:    \n",
    "    dur = timeline.loc[ids,\"Dur_C1\"]\n",
    "    to  = max(0,timeline.loc[ids,\"T_arrival\"])\n",
    "    tf  = min(timeline.loc[ids,\"T_departure\"],dur)\n",
    "    to /= dur\n",
    "    tf /= dur   \n",
    "    \n",
    "    pc_experimental = model.loc[ids,\"Raw\"]\n",
    "    k_expo= fsolve(p_c_int, x0 = 2.6, args=(to,tf,\"Expon\",pc_experimental))[0]\n",
    "    model.loc[ids,\"K_Rate_Adim\"] = k_expo    \n",
    "    model.loc[ids,\"K_Rate\"] = k_expo/dur    \n",
    "    model.loc[ids,\"Tau\"] = 1/(k_expo/dur)    \n",
    "        \n",
    "for ids in model.index:        \n",
    "    dur = timeline.loc[ids,\"Dur_C1\"]\n",
    "    to  = max(0,timeline.loc[ids,\"T_arrival\"])\n",
    "    tf  = min(timeline.loc[ids,\"T_departure\"],dur)\n",
    "    to /= dur\n",
    "    tf /= dur     \n",
    "\n",
    "    k_avg = model[\"K_Rate_Adim\"].mean()    \n",
    "    pc_estimated = p_c_int(k_avg,to,tf,f)    \n",
    "    model.loc[ids,\"Prob_Estimated\"] = pc_estimated\n",
    "\n",
    "    k_avg =  model.loc[\"Sec2\",\"K_Rate_Adim\"]\n",
    "    pc_estimated = p_c_int(k_avg,to,tf,f)    \n",
    "    model.loc[ids,\"Prob_Estimated_Using_Sec2\"] = pc_estimated  \n",
    "model"
   ]
  },
  {
   "cell_type": "code",
   "execution_count": 62,
   "id": "a96bc3ec",
   "metadata": {
    "hidden": true
   },
   "outputs": [
    {
     "data": {
      "text/html": [
       "<div>\n",
       "<style scoped>\n",
       "    .dataframe tbody tr th:only-of-type {\n",
       "        vertical-align: middle;\n",
       "    }\n",
       "\n",
       "    .dataframe tbody tr th {\n",
       "        vertical-align: top;\n",
       "    }\n",
       "\n",
       "    .dataframe thead th {\n",
       "        text-align: right;\n",
       "    }\n",
       "</style>\n",
       "<table border=\"1\" class=\"dataframe\">\n",
       "  <thead>\n",
       "    <tr style=\"text-align: right;\">\n",
       "      <th></th>\n",
       "      <th>Raw</th>\n",
       "      <th>Raw_Err</th>\n",
       "      <th>K_Rate_Adim</th>\n",
       "      <th>K_Rate</th>\n",
       "      <th>Tau</th>\n",
       "      <th>Prob_Estimated</th>\n",
       "      <th>Prob_Estimated_Using_Sec2</th>\n",
       "      <th>K_Rate_Err</th>\n",
       "      <th>Prob_Estimated_Err</th>\n",
       "      <th>Prob_Estimated_Using_Sec2_Err</th>\n",
       "    </tr>\n",
       "  </thead>\n",
       "  <tbody>\n",
       "    <tr>\n",
       "      <th>Sec2</th>\n",
       "      <td>0.2654</td>\n",
       "      <td>0.0367</td>\n",
       "      <td>3.6331</td>\n",
       "      <td>0.3865</td>\n",
       "      <td>2.5873</td>\n",
       "      <td>0.3022</td>\n",
       "      <td>0.2654</td>\n",
       "      <td>0.0483</td>\n",
       "      <td>0.0542</td>\n",
       "      <td>0.0540</td>\n",
       "    </tr>\n",
       "    <tr>\n",
       "      <th>WT</th>\n",
       "      <td>0.3243</td>\n",
       "      <td>0.0367</td>\n",
       "      <td>2.9163</td>\n",
       "      <td>0.3102</td>\n",
       "      <td>3.2232</td>\n",
       "      <td>0.3065</td>\n",
       "      <td>0.2680</td>\n",
       "      <td>0.0483</td>\n",
       "      <td>0.0435</td>\n",
       "      <td>0.0415</td>\n",
       "    </tr>\n",
       "    <tr>\n",
       "      <th>Sec9</th>\n",
       "      <td>0.0898</td>\n",
       "      <td>0.0367</td>\n",
       "      <td>3.3254</td>\n",
       "      <td>0.3538</td>\n",
       "      <td>2.8267</td>\n",
       "      <td>0.1007</td>\n",
       "      <td>0.0759</td>\n",
       "      <td>0.0483</td>\n",
       "      <td>0.0318</td>\n",
       "      <td>0.0279</td>\n",
       "    </tr>\n",
       "    <tr>\n",
       "      <th>Sec18</th>\n",
       "      <td>0.0573</td>\n",
       "      <td>0.0367</td>\n",
       "      <td>2.6000</td>\n",
       "      <td>0.2766</td>\n",
       "      <td>3.6154</td>\n",
       "      <td>0.0015</td>\n",
       "      <td>0.0009</td>\n",
       "      <td>0.0483</td>\n",
       "      <td>0.0795</td>\n",
       "      <td>0.0483</td>\n",
       "    </tr>\n",
       "  </tbody>\n",
       "</table>\n",
       "</div>"
      ],
      "text/plain": [
       "         Raw  Raw_Err  K_Rate_Adim  K_Rate    Tau  Prob_Estimated  \\\n",
       "Sec2  0.2654   0.0367       3.6331  0.3865 2.5873          0.3022   \n",
       "WT    0.3243   0.0367       2.9163  0.3102 3.2232          0.3065   \n",
       "Sec9  0.0898   0.0367       3.3254  0.3538 2.8267          0.1007   \n",
       "Sec18 0.0573   0.0367       2.6000  0.2766 3.6154          0.0015   \n",
       "\n",
       "       Prob_Estimated_Using_Sec2  K_Rate_Err  Prob_Estimated_Err  \\\n",
       "Sec2                      0.2654      0.0483              0.0542   \n",
       "WT                        0.2680      0.0483              0.0435   \n",
       "Sec9                      0.0759      0.0483              0.0318   \n",
       "Sec18                     0.0009      0.0483              0.0795   \n",
       "\n",
       "       Prob_Estimated_Using_Sec2_Err  \n",
       "Sec2                          0.0540  \n",
       "WT                            0.0415  \n",
       "Sec9                          0.0279  \n",
       "Sec18                         0.0483  "
      ]
     },
     "execution_count": 62,
     "metadata": {},
     "output_type": "execute_result"
    }
   ],
   "source": [
    "model[\"K_Rate_Err\"] = model[\"K_Rate\"].std(ddof=1) \n",
    "model"
   ]
  },
  {
   "cell_type": "code",
   "execution_count": 63,
   "id": "9c444f30",
   "metadata": {
    "hidden": true
   },
   "outputs": [],
   "source": [
    "\n",
    "for ids in model.index:    \n",
    "    \n",
    "    dur = timeline.loc[ids,\"Dur_C1\"]\n",
    "    to  = max(0,timeline.loc[ids,\"T_arrival\"])\n",
    "    tf  = min(timeline.loc[ids,\"T_departure\"],dur)      \n",
    "    \n",
    "    to_std = timeline.loc[ids,\"SD_arrival\"]   / np.sqrt(timeline.loc[ids,\"Count\"])\n",
    "    tf_std = timeline.loc[ids,\"SD_departure\"] / np.sqrt(timeline.loc[ids,\"Count\"])\n",
    "    \n",
    "    ###-------------------------------------------------------------------------------------###\n",
    "    ### Error associated to the k estimation using the using raw populations\n",
    "    k      = model.loc[ids,\"K_Rate\"]\n",
    "    pc     = model.loc[ids,\"Raw\"]\n",
    "    pc_err = model.loc[ids,\"Raw_Err\"]\n",
    "    model.loc[ids,\"K_Rate_Err\"] = np.sqrt(derivates_pc_t(\"to\",to,tf,k,pc)**2 * to_std**2+\\\n",
    "                                               derivates_pc_t(\"tf\",to,tf,k,pc)**2 * tf_std**2+\\\n",
    "                                                pc_err**2) \n",
    "    ###-------------------------------------------------------------------------------------###\n",
    "    \n",
    "    ###-------------------------------------------------------------------------------------###\n",
    "    ### Error associated to the Estimated Population using the mean k    \n",
    "    k      = model[\"K_Rate\"].mean()    \n",
    "    k_std  = model[\"K_Rate\"].std(ddof=1)    \n",
    "    pc     = model.loc[ids,\"Prob_Estimated\"]    \n",
    "    model.loc[ids,\"Prob_Estimated_Err\"] = np.sqrt( derivates_pc_t(\"k\",to,tf,k,pc)**2 * k_std**2 +\\\n",
    "                                            derivates_pc_t(\"to\",to,tf,k,pc)**2 * to_std**2+\\\n",
    "                                            derivates_pc_t(\"tf\",to,tf,k,pc)**2 * tf_std**2 ) \n",
    "    ###-------------------------------------------------------------------------------------###\n",
    "    \n",
    "    ###-------------------------------------------------------------------------------------###    \n",
    "    ### Error associated to the Estimated Population using the Sec2 k and the raw populations\n",
    "    k      = model.loc[\"Sec2\",\"K_Rate\"]    \n",
    "    k_std  = model.loc[\"Sec2\",\"K_Rate_Err\"]\n",
    "    pc     = model.loc[ids,\"Prob_Estimated_Using_Sec2\"]    \n",
    "    model.loc[ids,\"Prob_Estimated_Using_Sec2_Err\"] = np.sqrt( derivates_pc_t(\"k\",to,tf,k,pc)**2 * k_std**2 +\\\n",
    "                                            derivates_pc_t(\"to\",to,tf,k,pc)**2 * to_std**2+\\\n",
    "                                            derivates_pc_t(\"tf\",to,tf,k,pc)**2 * tf_std**2 )\n",
    "    ###-------------------------------------------------------------------------------------###"
   ]
  },
  {
   "cell_type": "code",
   "execution_count": 77,
   "id": "10360078",
   "metadata": {
    "hidden": true
   },
   "outputs": [
    {
     "data": {
      "image/png": "[encoded data removed]",
      "text/plain": [
       "<Figure size 432x288 with 1 Axes>"
      ]
     },
     "metadata": {
      "needs_background": "light"
     },
     "output_type": "display_data"
    }
   ],
   "source": [
    "for i,s in enumerate([\"Raw\",\"Prob_Estimated_Using_Sec2\"]):      \n",
    "\n",
    "    plt.bar(np.arange(4)+0.1*(-1)**i, model[s].values,width=0.2,zorder=0,alpha=0.5,color='w',edgecolor='k',\n",
    "            label=\"Compact\" if s==\"Raw\" else None)\n",
    "    plt.bar(np.arange(4)+0.1*(-1)**i, 1-model[s].values,bottom=model[s+corr].values,\n",
    "            width=0.2,zorder=0,alpha=1.,color='gray',edgecolor='k',\n",
    "           label=\"Expanded\" if s==\"Raw\" else None)\n",
    "\n",
    "    plt.scatter(np.arange(4)+0.1*(-1)**i, model[s].values,                          \n",
    "         color = 'k' if s==\"Raw\" else 'r',alpha=0.8,zorder=0,label=s+corr)\n",
    "\n",
    "    plt.errorbar(np.arange(4)+0.1*(-1)**i, model[s+corr].values,\n",
    "         yerr = model[s+\"_Err\"],              \n",
    "         color = 'k' if s==\"Raw\" else 'r',ls='',alpha=0.8,zorder=1)\n",
    "plt.xticks(np.arange(4),model.index)  \n",
    "plt.yticks(np.arange(0,1.1,0.2))\n",
    "plt.legend(loc=[1.1,0])\n",
    "plt.ylabel(\"Fraction\")\n",
    "#plt.savefig(\"../Figures/Two_States_model_predicted_populations_Using_Sec2%s.svg\"%corr)\n",
    "plt.show()"
   ]
  },
  {
   "cell_type": "markdown",
   "id": "3b59c4be",
   "metadata": {
    "heading_collapsed": true,
    "hidden": true
   },
   "source": [
    "### Fig 4C: ExHOS kinetics model "
   ]
  },
  {
   "cell_type": "code",
   "execution_count": 83,
   "id": "99d4ea53",
   "metadata": {
    "hidden": true
   },
   "outputs": [],
   "source": [
    "# ------------------------------------------------------------------------------------------------\n",
    "# The ExHOS kinetics is modeled as \n",
    "# r_ExHOS (t) = mean_radius_Compact * P_c + mean_radius_Expanded * P_e (Equation 2)\n",
    "# r_ExHOS (t) = mean_radius_Compact * P_c + mean_radius_Expanded * (1 - P_c)\n",
    "# ------------------------------------------------------------------------------------------------\n",
    "\"\"\"  Sec2_GFP        all 28.4 +- 19.3 --> 31.9\n",
    "        WT        all 26.3 +- 18.5 --> 29.2\n",
    "  Sec9_GFP        all 32.6 +- 19.5 --> 37.1\n",
    "   Sec9_WT        all 26.4 +- 18.6 --> 29.3\n",
    "\"\"\"\n",
    "rcom = (22+15)/2\n",
    "rexp = (28+50)/2\n",
    "#model[\"R_mean_obs\"] = [31.9,37.1,32.5,31.9]\n",
    "model.loc[[\"Sec2\",\"Sec9\",\"WT\",\"Sec18\"],\"R_Expanded\" ]     = [36.3, 38.4, 34.2,39.2] #[37.3, 39.5, 36.0]\n",
    "model.loc[[\"Sec2\",\"Sec9\",\"WT\",\"Sec18\"],\"R_Expanded_Err\" ] = [1.1, 0.8, 0.32,0.7]\n",
    "model.loc[[\"Sec2\",\"Sec9\",\"WT\",\"Sec18\"],\"R_Compact\" ]      = [19.5, 24.1, 18.5,22.3]\n",
    "model.loc[[\"Sec2\",\"Sec9\",\"WT\",\"Sec18\"],\"R_Compact_Err\" ]  = [2.0, 3.4, 5.4,0.8]\n",
    "\n",
    "model.loc[[\"Sec2\",\"Sec9\",\"WT\",\"Sec18\"],\"R_All\"]      = [31.9, 37.1, 29.2,37.9]\n",
    "model.loc[[\"Sec2\",\"Sec9\",\"WT\",\"Sec18\"],\"R_All_Err\"]  = np.sqrt(model[\"R_Compact_Err\"]**2*model[\"Raw\"]  +\\\n",
    "                                                    model[\"R_Expanded_Err\"]**2*(1-model[\"Raw\"]))\n",
    "\n",
    "model[\"R_All_Avg\"]       = model[\"R_Expanded\"]*(1-model[\"Raw\"]) + model[\"R_Compact\"]*model[\"Raw\"]\n",
    "model[\"R_All_Avg_Err\"]   = model[\"R_Expanded_Err\"]**2*(1-model[\"Raw\"]) + model[\"R_Compact_Err\"]**2*model[\"Raw\"]+\\\n",
    "                                model[\"R_Expanded_Err\"]*model[\"Raw_Err\"]**2 + model[\"R_Compact_Err\"]*model[\"Raw_Err\"]**2\n",
    "model[\"R_All_Avg_Err\"]   = np.sqrt(model[\"R_All_Avg_Err\"]) \n",
    "\n",
    "model[\"R_All_Estimated\"]     =  rexp + (rcom-rexp)*(model[\"Prob_Estimated_Using_Sec2\"])\n",
    "model[\"R_All_Estimated_Err\"] = abs(rcom-rexp)*(model[\"Prob_Estimated_Using_Sec2_Err\"])"
   ]
  },
  {
   "cell_type": "code",
   "execution_count": 87,
   "id": "075c7fb2",
   "metadata": {
    "hidden": true
   },
   "outputs": [
    {
     "data": {
      "text/plain": [
       "Text(0, 0.5, 'Exocyst HOS radius (nm)')"
      ]
     },
     "execution_count": 87,
     "metadata": {},
     "output_type": "execute_result"
    },
    {
     "data": {
      "image/png": "[encoded data removed]",
      "text/plain": [
       "<Figure size 432x288 with 1 Axes>"
      ]
     },
     "metadata": {
      "needs_background": "light"
     },
     "output_type": "display_data"
    }
   ],
   "source": [
    "for i,s in enumerate([\"\",\"_Estimated\"]):      \n",
    "    plt.scatter(np.arange(4)+0.05*(-1)**i, model[\"R_All\"+s].values,                          \n",
    "         color = 'k' if s==\"\" else 'r',alpha=0.8,zorder=0,label=s+corr)\n",
    "\n",
    "    plt.errorbar(np.arange(4)+0.05*(-1)**i, model[\"R_All\"+s].values,\n",
    "         yerr =  model[\"R_All\"+s+\"_Err\"],              \n",
    "         color = 'k' if s==\"\" else 'r',ls='',alpha=0.8,zorder=0)\n",
    "\n",
    "plt.scatter(-1,30,color='k',label=\"Experiment\")\n",
    "plt.scatter(-1,30,color='r',label=\"Model\")\n",
    "plt.xlim(-.5,3.5)\n",
    "plt.xticks(np.arange(4),model.index)        \n",
    "plt.legend(loc=[1.1,0])\n",
    "plt.ylabel(\"Exocyst HOS radius (nm)\")\n",
    "#plt.savefig(\"../Figures/Two_States_model_predicted_radii_Using_Sec2.svg\")"
   ]
  },
  {
   "cell_type": "code",
   "execution_count": 91,
   "id": "19b5ea52",
   "metadata": {
    "hidden": true
   },
   "outputs": [],
   "source": [
    "# ------------------------------------------------------------------------------------------------\n",
    "# Estimating the confidence intervals by randomizing k-values \n",
    "# ------------------------------------------------------------------------------------------------\n",
    "t = np.arange(0,10,0.05)\n",
    "\n",
    "y_avg2 = 1.*np.zeros_like(t)\n",
    "y_avg  = 1.*np.zeros_like(t)\n",
    "ky     = model.loc[\"Sec2\",\"K_Rate\"]\n",
    "ky_err = model.loc[\"Sec2\",\"K_Rate_Err\"]\n",
    "for trial in range(100):\n",
    "    y  = rexp + (rcom-rexp)*np.exp(-np.random.normal(loc=ky,scale=ky_err)*t)\n",
    "    y_avg2 += y** 2\n",
    "    y_avg  += y \n",
    "    \n",
    "y_avg  /= 100\n",
    "y_avg2 /= 100\n",
    "y_err   = np.sqrt(y_avg2-y_avg**2)"
   ]
  },
  {
   "cell_type": "code",
   "execution_count": 94,
   "id": "c5caa34d",
   "metadata": {
    "hidden": true
   },
   "outputs": [
    {
     "data": {
      "text/plain": [
       "<matplotlib.legend.Legend at 0x7f40b038c730>"
      ]
     },
     "execution_count": 94,
     "metadata": {},
     "output_type": "execute_result"
    },
    {
     "data": {
      "image/png": "[encoded data removed]",
      "text/plain": [
       "<Figure size 432x288 with 1 Axes>"
      ]
     },
     "metadata": {
      "needs_background": "light"
     },
     "output_type": "display_data"
    }
   ],
   "source": [
    "fig,ax2 = plt.subplots()\n",
    "c  = 1 # 1 for std and 1.96 for 96% CI\n",
    "c  = 1.96\n",
    "ky    = model.loc[\"Sec2\",\"K_Rate\"+corr]\n",
    "y     = rexp + (rcom-rexp)*np.exp(-ky*t)\n",
    "\n",
    "sel   = t <= exodur\n",
    "ax2.plot(t[sel],y[sel],label=\"$r_e(t) = %.1f - %.1f*e^{-%.2f*t}$\"%(rexp,rexp-rcom,ky),lw=3,color='b')\n",
    "ax2.fill_between(t[sel],y[sel]-c*y_err[sel],y[sel]+c*y_err[sel],alpha=0.25,color='b')\n",
    "\n",
    "\n",
    "\n",
    "to = timeline.loc[\"Sec2\",\"T_departure\"]\n",
    "ax2.axvline(to,label=\"Sec2 release\",color='brown')\n",
    "to = timeline.loc[\"Sec9\",\"T_arrival\"]\n",
    "ax2.axvline(to,label=\"Sec9 release\",color='orange')\n",
    "\n",
    "for ids in [\"Sec2\",\"Sec9\"]:\n",
    "    yo  = model.loc[ids,\"R_All_Estimated\"]\n",
    "    yo_err  = model.loc[ids,\"R_All_Estimated_Err\"]\n",
    "    to  = 1/ky*np.log((rexp-rcom)/(rexp-yo))\n",
    "    ax2.scatter(to,yo,color='r')\n",
    "    ax2.errorbar(to,yo,yo_err,color='r')\n",
    "\n",
    "    yo  = model.loc[ids,\"R_All\"]\n",
    "    yo_err  = model.loc[ids,\"R_All_Err\"]\n",
    "    ax2.scatter(to,yo,color='k')\n",
    "    ax2.errorbar(to,yo,yo_err,color='k')\n",
    "    \n",
    "yo  = 37.9 ## Value of All Sec18_AA\n",
    "yo_err  = np.sqrt(3.3**2*0.1+1.4**2*0.9) ## SEM for Comp. and Expand. Sec18AA\n",
    "to  = 9.4\n",
    "ax2.scatter(to,yo,color='k')\n",
    "ax2.errorbar(to,yo,yo_err,color='k')\n",
    "ax2.scatter(to,y[t==9.4],color='r')\n",
    "ax2.errorbar(to,y[t==9.4],y_err[t==9.4],color='r')\n",
    "\n",
    "ax2.set_ylim(16,42)\n",
    "ax2.set_xlabel(\"Time (s)\")\n",
    "ax2.set_ylabel(\"r_ExHOS (nm) \")\n",
    "ax2.legend(loc=[1.1,0])\n",
    "#plt.savefig(\"../Figures/HOS_Radius\"+corr+\".svg\")\n"
   ]
  },
  {
   "cell_type": "markdown",
   "id": "69c22056",
   "metadata": {
    "heading_collapsed": true
   },
   "source": [
    "# Modeling: Vesicle kinetics\n",
    "# Fig 6D-E"
   ]
  },
  {
   "cell_type": "code",
   "execution_count": 128,
   "id": "cae11d00",
   "metadata": {
    "hidden": true
   },
   "outputs": [],
   "source": [
    "ves_distances = np.loadtxt(\"/home/jsortiz/data.dat\")\n",
    "ves_distances = np.append(ves_distances,[0,0,0])\n",
    "ves_distances = -np.sort(-ves_distances)"
   ]
  },
  {
   "cell_type": "code",
   "execution_count": 129,
   "id": "3861f8e5",
   "metadata": {
    "hidden": true
   },
   "outputs": [],
   "source": [
    "xs = np.arange(1,len(ves_distances)+1)/len(ves_distances)"
   ]
  },
  {
   "cell_type": "code",
   "execution_count": 130,
   "id": "b2dc5edb",
   "metadata": {
    "hidden": true
   },
   "outputs": [],
   "source": [
    "ys      = np.log(ves_distances[:-3])\n",
    "lin_fit = stats.linregress(xs[:-3],ys)"
   ]
  },
  {
   "cell_type": "code",
   "execution_count": 157,
   "id": "b097a8b0",
   "metadata": {
    "hidden": true
   },
   "outputs": [
    {
     "data": {
      "text/plain": [
       "<matplotlib.legend.Legend at 0x7f40ae8ca340>"
      ]
     },
     "execution_count": 157,
     "metadata": {},
     "output_type": "execute_result"
    },
    {
     "data": {
      "image/png": "[encoded data removed]",
      "text/plain": [
       "<Figure size 432x288 with 1 Axes>"
      ]
     },
     "metadata": {
      "needs_background": "light"
     },
     "output_type": "display_data"
    }
   ],
   "source": [
    "plt.scatter(xs[:-3],ys,color='k',label=\"Tomograms with isolated vesicles\")\n",
    "plt.scatter(xs[-3:],[0,0,0],color='k',marker='*',label=\"Tomograms without vesicles\")\n",
    "plt.plot(xs[:-3],xs[:-3]*lin_fit[0] + lin_fit[1],color='r',label=\"Linear fit:\\nInterc. = 3.8+-0.1\\nSlope  = -3.5+-0.1\\nr-value= 0.99\")\n",
    "plt.xlabel(\"Fraction of tomograms\")\n",
    "plt.ylabel(\"ln (d$_{V-PM}$)\")\n",
    "plt.legend(loc=[1.1,.0])"
   ]
  },
  {
   "cell_type": "code",
   "execution_count": null,
   "id": "17f895e9",
   "metadata": {
    "hidden": true
   },
   "outputs": [],
   "source": []
  },
  {
   "cell_type": "code",
   "execution_count": 175,
   "id": "16f65e38",
   "metadata": {
    "hidden": true
   },
   "outputs": [],
   "source": [
    "t = np.arange(0,10,0.05)\n",
    "\n",
    "z_avg2 = 1.*np.zeros_like(t)\n",
    "z_avg  = 1.*np.zeros_like(t)\n",
    "\n",
    "kz      = 3.5      # Adimensional kz\n",
    "kz_err  = 0.1\n",
    "zmax    = 45.2     # np.exp(intercept)\n",
    "zmax_err= 0.1     \n",
    "zmax_err= zmax*zmax_err # d_zmax = np.exp(intercept) d_intercept\n",
    "\n",
    "for trial in range(100):\n",
    "    kz_rand   = np.random.normal(loc=kz,scale=kz_err)\n",
    "    kz_rand   = kz_rand/exodur  # kz mapped to times units\n",
    "    zmax_rand = np.random.normal(loc=zmax,scale=zmax_err) \n",
    "    z  = zmax_rand*np.exp(-kz_rand*t)               \n",
    "    z_avg2 += z** 2\n",
    "    z_avg  += z \n",
    "    \n",
    "z_avg  /= 100\n",
    "z_avg2 /= 100\n",
    "z_err   = np.sqrt(z_avg2-z_avg**2)"
   ]
  },
  {
   "cell_type": "code",
   "execution_count": 191,
   "id": "36d6fcb6",
   "metadata": {
    "hidden": true
   },
   "outputs": [
    {
     "data": {
      "text/plain": [
       "Text(0, 0.5, 'd$_{V-PM}$ (t) (nm)')"
      ]
     },
     "execution_count": 191,
     "metadata": {},
     "output_type": "execute_result"
    },
    {
     "data": {
      "image/png": "[encoded data removed]",
      "text/plain": [
       "<Figure size 432x288 with 1 Axes>"
      ]
     },
     "metadata": {
      "needs_background": "light"
     },
     "output_type": "display_data"
    }
   ],
   "source": [
    "\n",
    "fig,ax = plt.subplots()\n",
    "c  = 1 # 1 for std and 1.96 for 96% CI\n",
    "c  = 1.96\n",
    "\n",
    "# ------Estimated fusion time from Cryo-CLEM results ------\n",
    "# Fusion_time ~ t_residence * n_iv /n_total\n",
    "# Where t_residence is the total detection time for the reference protein\n",
    "# n_total is the number of total tomograms\n",
    "# n_inv is the number of tomograms with isolated vesicles\n",
    "fusion = 15/18*exodur\n",
    "fusion_sec9 =  5/14*timeline.loc[\"Sec9\",\"Dur_C2\"] + timeline.loc[\"Sec9\",\"T_arrival\"]\n",
    "#\n",
    "\n",
    "t = np.arange(0,10,0.05)\n",
    "sel = t<fusion\n",
    "z = zmax*np.exp(-kz/exodur*t)#kz mapped to times units\n",
    "ax.plot(t[sel],z[sel],color='r',label=\"d$_{V-PM}$ = 45.2*exp(-0.37*t) (Equation 3)\")\n",
    "ax.fill_between(t[sel],z[sel]-c*z_err[sel],z[sel]+c*z_err[sel],alpha=0.5,color='r')\n",
    "\n",
    "ax.axvspan(fusion_sec9,fusion,color='gray',alpha=0.3,zorder=0,label=\"Estimated vesicle fusion\")\n",
    "ax.axvline(timeline.loc[\"Sec9\",\"T_arrival\"],label=\"Sec9 clustering\",color='orange')\n",
    "\n",
    "ax.legend(loc=[1.1,0])\n",
    "ax.set_xlim(-0.1, exodur)\n",
    "ax.set_xlabel(\"Time (s)\")\n",
    "ax.set_ylabel(\"d$_{V-PM}$ (t) (nm)\")\n"
   ]
  },
  {
   "cell_type": "code",
   "execution_count": null,
   "id": "de5ff2e3",
   "metadata": {
    "hidden": true
   },
   "outputs": [],
   "source": []
  }
 ],
 "metadata": {
  "kernelspec": {
   "display_name": "Python 3",
   "language": "python",
   "name": "python3"
  },
  "language_info": {
   "codemirror_mode": {
    "name": "ipython",
    "version": 3
   },
   "file_extension": ".py",
   "mimetype": "text/x-python",
   "name": "python",
   "nbconvert_exporter": "python",
   "pygments_lexer": "ipython3",
   "version": "3.8.8"
  }
 },
 "nbformat": 4,
 "nbformat_minor": 5
}
